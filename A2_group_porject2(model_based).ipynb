{
 "cells": [
  {
   "cell_type": "code",
   "execution_count": 3,
   "id": "42f829e5",
   "metadata": {},
   "outputs": [],
   "source": [
    "import pandas as pd\n",
    "import numpy as np"
   ]
  },
  {
   "cell_type": "code",
   "execution_count": 4,
   "id": "2df09a07",
   "metadata": {},
   "outputs": [],
   "source": [
    "transaction = pd.read_csv(\"C:\\\\Users\\\\kyrie\\\\Downloads\\\\sampled_transactions_local.csv\")"
   ]
  },
  {
   "cell_type": "code",
   "execution_count": 5,
   "id": "2b40f900",
   "metadata": {},
   "outputs": [],
   "source": [
    "baby_products = pd.read_csv(\"C:\\\\Users\\\\kyrie\\\\Desktop\\\\ML_AI_scale\\\\Group_project\\\\group_project2\\\\baby_products.csv\")"
   ]
  },
  {
   "cell_type": "code",
   "execution_count": 6,
   "id": "56b4dd78",
   "metadata": {},
   "outputs": [
    {
     "name": "stdout",
     "output_type": "stream",
     "text": [
      "             trans_id    trans_dt  store_id      cust_id      prod_id  \\\n",
      "0  180130010200406503  2018-01-30      1020   1123940312  20070132001   \n",
      "1  181115010200505064  2018-11-15      1020  33221937660  20721046001   \n",
      "2  180117010202108471  2018-01-17      1020   1135643825     20097083   \n",
      "3  171011010200402432  2017-10-11      1020   1125634180     20776239   \n",
      "4  180810010200500575  2018-08-10      1020   1113651393     20313182   \n",
      "\n",
      "   sales_amt  sales_qty  sales_wgt  \n",
      "0       2.49          1        0.0  \n",
      "1       2.49          1        0.0  \n",
      "2       2.49          1        0.0  \n",
      "3       2.49          1        0.0  \n",
      "4       2.49          1        0.0  \n"
     ]
    }
   ],
   "source": [
    "print(transaction.head())"
   ]
  },
  {
   "cell_type": "code",
   "execution_count": 7,
   "id": "5b59a5f5",
   "metadata": {},
   "outputs": [
    {
     "name": "stdout",
     "output_type": "stream",
     "text": [
      "    prod_id                       prod_desc prod_section prod_category  \\\n",
      "0  21302291        KIDS SWING 2 SET COVERME         Baby          Baby   \n",
      "1  21168731  NOSH MUNCHABLES BROC PEAR KALE         Baby          Baby   \n",
      "2  20979671                     SG 6X WIPES         Baby          Baby   \n",
      "3  21106746               SG DIAPERS SBP S6         Baby          Baby   \n",
      "4  20979628               SG DIAPERS SBP S5         Baby          Baby   \n",
      "\n",
      "     prod_subcategory               prod_type prod_mfc_brand_cd  \\\n",
      "0    Baby Accessories  Baby Swings & Bouncers              0KDS   \n",
      "1      Infant Feeding                    Baby              0NOS   \n",
      "2          Baby Wipes               5x Refill              7GEN   \n",
      "3  Disposable Diapers                Big Pack              7GEN   \n",
      "4  Disposable Diapers                Big Pack              7GEN   \n",
      "\n",
      "   prod_unit_qty_count prod_count_uom  prod_uom_value  \n",
      "0                    1             EA             1.0  \n",
      "1                    1              G            54.0  \n",
      "2                    1             EA           384.0  \n",
      "3                    1             EA            60.0  \n",
      "4                    1             EA            69.0  \n"
     ]
    }
   ],
   "source": [
    "print(baby_products.head())"
   ]
  },
  {
   "cell_type": "code",
   "execution_count": 8,
   "id": "5e2f6187",
   "metadata": {},
   "outputs": [
    {
     "name": "stdout",
     "output_type": "stream",
     "text": [
      "             trans_id    trans_dt  store_id     cust_id      prod_id  \\\n",
      "0  180327010210100894  2018-03-27      1021  1133144909     21027588   \n",
      "1  180317010211100147  2018-03-17      1021  1142318362  20888821003   \n",
      "2  190315010210305505  2019-03-15      1021  1131650845  20888821002   \n",
      "3  190629010280506213  2019-06-29      1028  1145479936     21167647   \n",
      "4  180728010280609799  2018-07-28      1028  1071868432     21054223   \n",
      "\n",
      "   sales_amt  sales_qty  sales_wgt                      prod_desc  \\\n",
      "0       2.49          1        0.0  LVCH BABY FOOD MANGO CHKN ORG   \n",
      "1       2.49          1        0.0             ACSE APL STRW PUFF   \n",
      "2       2.49          1        0.0        ACSE PURP CAR BLUB PUFF   \n",
      "3       2.49          1        0.0   LOVE CHILD HEARTY BLGNSE 6M+   \n",
      "4       2.49          1        0.0   LCO SNACKS LV DUCKS CHS HRBS   \n",
      "\n",
      "  prod_section prod_category prod_subcategory      prod_type  \\\n",
      "0         Baby          Baby   Infant Feeding  Baby Strained   \n",
      "1         Baby          Baby   Infant Feeding          Puffs   \n",
      "2         Baby          Baby   Infant Feeding          Puffs   \n",
      "3         Baby          Baby   Infant Feeding  Baby Strained   \n",
      "4         Baby          Baby   Infant Feeding          Puffs   \n",
      "\n",
      "  prod_mfc_brand_cd  prod_unit_qty_count prod_count_uom  prod_uom_value  \n",
      "0              LVCH                    1             ML           128.0  \n",
      "1              ACSE                    1              G            42.0  \n",
      "2              ACSE                    1              G            42.0  \n",
      "3              LVCH                    1             ML           128.0  \n",
      "4              LVCH                    1              G            30.0  \n"
     ]
    }
   ],
   "source": [
    "from sklearn.decomposition import TruncatedSVD\n",
    "from scipy.sparse import csr_matrix\n",
    "from sklearn.preprocessing import LabelEncoder\n",
    "\n",
    "\n",
    "# Merge product metadata into transaction data\n",
    "df = transaction.merge(baby_products, on=\"prod_id\", how=\"inner\")\n",
    "print(df.head())\n"
   ]
  },
  {
   "cell_type": "code",
   "execution_count": 9,
   "id": "7fbb44eb",
   "metadata": {},
   "outputs": [
    {
     "name": "stdout",
     "output_type": "stream",
     "text": [
      "             trans_id    trans_dt  store_id     cust_id      prod_id  \\\n",
      "0  180327010210100894  2018-03-27      1021  1133144909     21027588   \n",
      "1  180317010211100147  2018-03-17      1021  1142318362  20888821003   \n",
      "2  190315010210305505  2019-03-15      1021  1131650845  20888821002   \n",
      "3  190629010280506213  2019-06-29      1028  1145479936     21167647   \n",
      "4  180728010280609799  2018-07-28      1028  1071868432     21054223   \n",
      "\n",
      "   sales_amt  sales_qty  sales_wgt                      prod_desc  \\\n",
      "0       2.49          1        0.0  LVCH BABY FOOD MANGO CHKN ORG   \n",
      "1       2.49          1        0.0             ACSE APL STRW PUFF   \n",
      "2       2.49          1        0.0        ACSE PURP CAR BLUB PUFF   \n",
      "3       2.49          1        0.0   LOVE CHILD HEARTY BLGNSE 6M+   \n",
      "4       2.49          1        0.0   LCO SNACKS LV DUCKS CHS HRBS   \n",
      "\n",
      "  prod_section prod_category prod_subcategory      prod_type  \\\n",
      "0         Baby          Baby   Infant Feeding  Baby Strained   \n",
      "1         Baby          Baby   Infant Feeding          Puffs   \n",
      "2         Baby          Baby   Infant Feeding          Puffs   \n",
      "3         Baby          Baby   Infant Feeding  Baby Strained   \n",
      "4         Baby          Baby   Infant Feeding          Puffs   \n",
      "\n",
      "  prod_mfc_brand_cd  prod_unit_qty_count prod_count_uom  prod_uom_value  \n",
      "0              LVCH                    1             ML           128.0  \n",
      "1              ACSE                    1              G            42.0  \n",
      "2              ACSE                    1              G            42.0  \n",
      "3              LVCH                    1             ML           128.0  \n",
      "4              LVCH                    1              G            30.0  \n"
     ]
    }
   ],
   "source": [
    "print(df.head())"
   ]
  },
  {
   "cell_type": "code",
   "execution_count": 11,
   "id": "c5f58e59",
   "metadata": {},
   "outputs": [],
   "source": [
    "df = transaction.merge(baby_products, on=\"prod_id\", how=\"inner\")\n",
    "\n",
    "\n",
    "df_baby = df[df[\"prod_section\"].str.upper() == \"BABY\"].copy()\n",
    "\n",
    "# Step 3: Brand standardization\n",
    "df_baby[\"brand_code\"] = df_baby[\"prod_mfc_brand_cd\"].str.upper()\n",
    "\n",
    "# Step 4: Define important groups\n",
    "HUGGIES_CODE = \"HUGG\"  # Confirm Huggies code in your data\n",
    "ACSE_CODE = \"ACSE\"\n",
    "\n",
    "# 4a: Customers who bought ACSE-branded baby products\n",
    "acse_buyers = set(df_baby[df_baby[\"brand_code\"] == ACSE_CODE][\"cust_id\"])\n",
    "\n",
    "# 4b: Customers who bought competitor brands (not Huggies or ACSE)\n",
    "competitor_buyers = set(\n",
    "    df_baby[\n",
    "        (df_baby[\"brand_code\"] != HUGGIES_CODE) &\n",
    "        (df_baby[\"brand_code\"] != ACSE_CODE)\n",
    "    ][\"cust_id\"]\n",
    ")\n",
    "\n",
    "# 4c: Final target = competitors only, excluding ACSE buyers\n",
    "target_customers = list(competitor_buyers - acse_buyers)\n"
   ]
  },
  {
   "cell_type": "code",
   "execution_count": 12,
   "id": "ae458626",
   "metadata": {},
   "outputs": [],
   "source": [
    "user_encoder = LabelEncoder()\n",
    "item_encoder = LabelEncoder()\n",
    "df_baby[\"user_idx\"] = user_encoder.fit_transform(df_baby[\"cust_id\"])\n",
    "df_baby[\"item_idx\"] = item_encoder.fit_transform(df_baby[\"prod_id\"])\n",
    "\n",
    "# Step 6: Build binary interaction matrix\n",
    "interaction_matrix = csr_matrix(\n",
    "    (np.ones(len(df_baby)), (df_baby[\"user_idx\"], df_baby[\"item_idx\"])),\n",
    "    shape=(df_baby[\"user_idx\"].nunique(), df_baby[\"item_idx\"].nunique())\n",
    ")\n",
    "\n",
    "# Step 7: Train SVD\n",
    "svd = TruncatedSVD(n_components=20, random_state=42)\n",
    "user_factors = svd.fit_transform(interaction_matrix)\n",
    "item_factors = svd.components_.T\n",
    "\n",
    "# Step 8: Prepare mapping\n",
    "cust_id_to_idx = dict(zip(df_baby[\"cust_id\"], df_baby[\"user_idx\"]))\n",
    "prod_id_to_desc = dict(zip(baby_products[\"prod_id\"], baby_products[\"prod_desc\"]))\n",
    "\n",
    "# Filter Huggies products only\n",
    "huggies_items = df_baby[df_baby[\"brand_code\"] == HUGGIES_CODE][[\"prod_id\", \"item_idx\"]].drop_duplicates()\n",
    "\n"
   ]
  },
  {
   "cell_type": "code",
   "execution_count": 13,
   "id": "2848990e",
   "metadata": {},
   "outputs": [],
   "source": [
    "recommendations = []\n",
    "\n",
    "for cust_id in target_customers:\n",
    "    if cust_id not in cust_id_to_idx:\n",
    "        continue\n",
    "\n",
    "    user_idx = cust_id_to_idx[cust_id]\n",
    "    user_vec = user_factors[user_idx]\n",
    "\n",
    "    scored_items = []\n",
    "    for _, row in huggies_items.iterrows():\n",
    "        item_idx = row[\"item_idx\"]\n",
    "        prod_id = row[\"prod_id\"]\n",
    "        score = np.dot(user_vec, item_factors[item_idx])\n",
    "        scored_items.append((prod_id, score))\n",
    "\n",
    "    # Top 3 Huggies products\n",
    "    top_items = sorted(scored_items, key=lambda x: -x[1])[:3]\n",
    "    for prod_id, score in top_items:\n",
    "        recommendations.append({\n",
    "            \"cust_id\": cust_id,\n",
    "            \"recommended_prod_id\": prod_id,\n",
    "            \"prod_desc\": prod_id_to_desc.get(prod_id, \"\"),\n",
    "            \"score\": score\n",
    "        })\n",
    "\n",
    "# Step 10: Output sorted by score\n",
    "recommendation_df = pd.DataFrame(recommendations)\n",
    "recommendation_df = recommendation_df.sort_values(by=\"score\", ascending=False)\n"
   ]
  },
  {
   "cell_type": "code",
   "execution_count": 14,
   "id": "6927304a",
   "metadata": {},
   "outputs": [
    {
     "name": "stdout",
     "output_type": "stream",
     "text": [
      "          cust_id  recommended_prod_id                       prod_desc  \\\n",
      "6741   1025384488             20557596  HUGG NATURAL CARE RFT 1X WIPES   \n",
      "89040  1014215043             20557596  HUGG NATURAL CARE RFT 1X WIPES   \n",
      "84147  1130993976             20799372  HUGG NATURAL CARE 3X FIT WIPES   \n",
      "89041  1014215043             20799372  HUGG NATURAL CARE 3X FIT WIPES   \n",
      "82692  1124438621             20799372  HUGG NATURAL CARE 3X FIT WIPES   \n",
      "84148  1130993976          20428787004           GOODNITES MEGA SM BOY   \n",
      "84149  1130993976             20758373  HUGG NATURAL CARE TUB 1X WIPES   \n",
      "56166  1131745305             20799372  HUGG NATURAL CARE 3X FIT WIPES   \n",
      "48231  1137109340             21172530         HUGG LIL MOVERS SBP SZ5   \n",
      "48232  1137109340             21173592      HUGG LIL SNUGGLERS SBP SZ5   \n",
      "\n",
      "          score  \n",
      "6741   1.665875  \n",
      "89040  1.486708  \n",
      "84147  1.449204  \n",
      "89041  1.398494  \n",
      "82692  1.307609  \n",
      "84148  1.295016  \n",
      "84149  1.017747  \n",
      "56166  0.992337  \n",
      "48231  0.866521  \n",
      "48232  0.862354  \n"
     ]
    }
   ],
   "source": [
    "# Look at a few customer IDs to test with\n",
    "print(recommendation_df.head(10))\n"
   ]
  }
 ],
 "metadata": {
  "kernelspec": {
   "display_name": "base",
   "language": "python",
   "name": "python3"
  },
  "language_info": {
   "codemirror_mode": {
    "name": "ipython",
    "version": 3
   },
   "file_extension": ".py",
   "mimetype": "text/x-python",
   "name": "python",
   "nbconvert_exporter": "python",
   "pygments_lexer": "ipython3",
   "version": "3.12.3"
  }
 },
 "nbformat": 4,
 "nbformat_minor": 5
}
